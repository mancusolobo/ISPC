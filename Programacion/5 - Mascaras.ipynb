{
 "cells": [
  {
   "cell_type": "markdown",
   "id": "539ae830",
   "metadata": {},
   "source": [
    "### Conversor de monedas"
   ]
  },
  {
   "cell_type": "code",
   "execution_count": 1,
   "id": "9e46d02e",
   "metadata": {},
   "outputs": [
    {
     "name": "stdout",
     "output_type": "stream",
     "text": [
      "Seleccione la moneda a convertir:\n",
      "1- Dolares.\n",
      "2- Euros.\n",
      "3- Reales.\n",
      "Seleccion: 2\n",
      "Ingrese el importe en pesos a Convertir: 2500\n",
      "$2500.00 ARS son equivalentes a $20.88 EUR\n"
     ]
    }
   ],
   "source": [
    "def mascara(funcion):\n",
    "    \n",
    "    def wrapper(valor):\n",
    "        \n",
    "        resultado = funcion(valor)\n",
    "        return('${2:0.2f} ARS son equivalentes a ${0:0.2f} {1}'.format(resultado, funcion.__name__.upper(), valor))\n",
    "    \n",
    "    return wrapper\n",
    "\n",
    "@mascara\n",
    "def usd(valor):\n",
    "    return valor / 103.75\n",
    "\n",
    "@mascara\n",
    "def eur(valor):\n",
    "    return valor / 119.75\n",
    "\n",
    "@mascara\n",
    "def brl(valor):\n",
    "    return valor / 20\n",
    "\n",
    "monedas = [usd, eur, brl]\n",
    "\n",
    "seleccion = int(input('Seleccione la moneda a convertir:\\n1- Dolares.\\n2- Euros.\\n3- Reales.\\nSeleccion: '))\n",
    "\n",
    "if seleccion in range(1,4):\n",
    "    \n",
    "    entrada = float(input('Ingrese el importe en pesos a Convertir: '))\n",
    "    print(monedas[seleccion-1](entrada))\n",
    "    \n",
    "else:\n",
    "    \n",
    "    print('Opción incorrecta.')"
   ]
  }
 ],
 "metadata": {
  "kernelspec": {
   "display_name": "Python 3",
   "language": "python",
   "name": "python3"
  },
  "language_info": {
   "codemirror_mode": {
    "name": "ipython",
    "version": 3
   },
   "file_extension": ".py",
   "mimetype": "text/x-python",
   "name": "python",
   "nbconvert_exporter": "python",
   "pygments_lexer": "ipython3",
   "version": "3.8.8"
  }
 },
 "nbformat": 4,
 "nbformat_minor": 5
}
