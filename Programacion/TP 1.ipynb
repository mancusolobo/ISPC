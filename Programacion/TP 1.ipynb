{
 "cells": [
  {
   "cell_type": "markdown",
   "metadata": {
    "id": "1x19yJPqw8oX"
   },
   "source": [
    "### <center> **CARRERA: TECNICATURA SUPERIOR DE CIENCIA DE DATOS E INTELIGENCIA ARTIFICIAL**  </center>\n",
    "### <center> ESPACIO CURRICULAR: PROGRAMAMCIÓN I\n",
    "##### <center> PROFESORES: NARCISO PEREZ – SILVIA PEROTTI\n",
    "##### <center> Alumno: Raúl Ricardo Lobo"
   ]
  },
  {
   "cell_type": "markdown",
   "metadata": {
    "id": "1O6t-WswN2sv"
   },
   "source": [
    "##### <center> **CUADERNILLOS DE EJERCITACIÓN**"
   ]
  },
  {
   "cell_type": "markdown",
   "metadata": {
    "id": "A3FEH6GVxi7r"
   },
   "source": [
    "*Ejercicio estructura condicional simple:*\n",
    "<ol>\n",
    "  <li> Realice un programa que solicite dos letras ingresadas por el usuario y verifique si son iguales o no,\n",
    "mostrando un mensaje.\n",
    "  <li> Hacer un programa que permita decidir si dos palabras son iguales o diferentes. Mostrar mensaje por\n",
    "pantalla.\n",
    "  <li> Realizar un programa que permita ingresar “f” o “m” y determinar si vota en mesa femenina o\n",
    "masculina.\n",
    "  <li> Realice un programa que lea dos números y diga cuál es el mayor.\n",
    "  <li> Realice un programa que cambie pesos a dólares. Mejórelo, añadiendo el cambio de dólares a pesos y\n",
    "que sea el usuario quién decida qué tipo de cambio quiere, si de dólares a pesos o viceversa.\n",
    "  <li> Realice un programa donde el usuario ingrese su edad. Si es mayor de 16 años, muestre un mensaje diciendo “puede votar”, sino “no vota”.\n",
    "</ol>"
   ]
  },
  {
   "cell_type": "code",
   "execution_count": null,
   "metadata": {
    "colab": {
     "base_uri": "https://localhost:8080/"
    },
    "id": "PAU005Z2wxWD",
    "outputId": "388e14ba-e422-4efb-c1d3-58d9f0ab9456"
   },
   "outputs": [
    {
     "name": "stdout",
     "output_type": "stream",
     "text": [
      "Ingrese una letra: A\n",
      "Ingrese otra letra: B\n",
      "Las 2 letras no son iguales.\n"
     ]
    }
   ],
   "source": [
    "#Ejercicio 1\n",
    "alphabet = 'abcdefghijklmnñopqrstuvwxyz'\n",
    "char_1 = input('Ingrese una letra: ').lower()\n",
    "char_2 = input('Ingrese otra letra: ').lower()\n",
    "if char_1 == char_2:\n",
    "  print('Las 2 letras son iguales.')\n",
    "else:\n",
    "  print('Las 2 letras no son iguales.')"
   ]
  },
  {
   "cell_type": "code",
   "execution_count": null,
   "metadata": {
    "colab": {
     "base_uri": "https://localhost:8080/"
    },
    "id": "W9oqTqYh0PIY",
    "outputId": "4567f207-d6f0-4272-d353-317a731fbdd1"
   },
   "outputs": [
    {
     "name": "stdout",
     "output_type": "stream",
     "text": [
      "Ingrese una palabra: hola\n",
      "Ingrese otra palabra: hola\n",
      "Las 2 palabras son iguales.\n"
     ]
    }
   ],
   "source": [
    "#Ejercicio 2\n",
    "word1 = input('Ingrese una palabra: ').lower()\n",
    "word2 = input('Ingrese otra palabra: ').lower()\n",
    "if word1 == word2:\n",
    "  print('Las 2 palabras son iguales.')\n",
    "else:\n",
    "  print('Las 2 palabras no son iguales.')"
   ]
  },
  {
   "cell_type": "code",
   "execution_count": null,
   "metadata": {
    "colab": {
     "base_uri": "https://localhost:8080/"
    },
    "id": "yE19UGK1B3cf",
    "outputId": "cbc1e59a-ab27-4c59-8be6-89abb652bc1e"
   },
   "outputs": [
    {
     "name": "stdout",
     "output_type": "stream",
     "text": [
      "Ingrese su sexo:\n",
      "F o M\n",
      "e\n",
      "Valores no permitidos, vuelva a intentar.\n",
      "Ingrese su sexo:\n",
      "F o M\n",
      "m\n",
      "Usted vota en mesa masculina.\n"
     ]
    }
   ],
   "source": [
    "#Ejercicio 3\n",
    "while True:\n",
    "  sex = input('Ingrese su sexo:\\nF o M\\n').lower()\n",
    "  if sex != 'f' and sex != 'm':\n",
    "    print('Valores no permitidos, vuelva a intentar.')\n",
    "  else:\n",
    "    break\n",
    "if sex == 'f':\n",
    "  print('Usted vota en mesa femenina.')\n",
    "else:\n",
    "  print('Usted vota en mesa masculina.')"
   ]
  },
  {
   "cell_type": "code",
   "execution_count": null,
   "metadata": {
    "colab": {
     "base_uri": "https://localhost:8080/"
    },
    "id": "qc4BHI2UDhEa",
    "outputId": "704eca93-3934-4c72-cd40-ce9f25188872"
   },
   "outputs": [
    {
     "name": "stdout",
     "output_type": "stream",
     "text": [
      "Ingrese numero #1: 5\n",
      "Ingrese numero #2: 10\n",
      "El numero 10 es el mayor.\n"
     ]
    }
   ],
   "source": [
    "#Ejercicio 4\n",
    "numbers = []\n",
    "for i in range(2):\n",
    "  num = input('Ingrese numero #' + str(i+1) + ': ')\n",
    "  numbers.append(num)\n",
    "numbers.sort()\n",
    "print('El numero {0} es el mayor.'.format(numbers[0]))"
   ]
  },
  {
   "cell_type": "code",
   "execution_count": null,
   "metadata": {
    "colab": {
     "base_uri": "https://localhost:8080/"
    },
    "id": "sZBOMrQlE8Rk",
    "outputId": "37efb069-e19d-4b7c-b489-367d0763ade7"
   },
   "outputs": [
    {
     "name": "stdout",
     "output_type": "stream",
     "text": [
      "¿A cuanto esta el dolar? 160\n",
      "¿Que necesita?\n",
      "1 - Cambiar ARS a USD.\n",
      "2 - Cambiar USD a ARS.\n",
      "2\n",
      "Ingrese la cantidad de dolares: 55\n",
      "Su cambio en ARS es de $8800.00\n"
     ]
    }
   ],
   "source": [
    "#Ejercicio 5\n",
    "coti_usd = float(input('¿A cuanto esta el dolar? '))\n",
    "eleccion = input('¿Que necesita?\\n1 - Cambiar ARS a USD.\\n2 - Cambiar USD a ARS.\\n')\n",
    "if eleccion == '1':\n",
    "  ars = float('Ingrese la cantidad de pesos: ')\n",
    "  print('Su cambio en USD es de ${0:.2f}'.format(ars/coti_usd))\n",
    "elif eleccion == '2':\n",
    "  usd = float(input('Ingrese la cantidad de dolares: '))\n",
    "  print('Su cambio en ARS es de ${0:.2f}'.format(usd*coti_usd))\n",
    "else:\n",
    "  print('Opcion no disponible.')"
   ]
  },
  {
   "cell_type": "code",
   "execution_count": null,
   "metadata": {
    "colab": {
     "base_uri": "https://localhost:8080/"
    },
    "id": "wjGECDIqJTtS",
    "outputId": "86d906b7-a5d2-46a6-f955-66e513667b72"
   },
   "outputs": [
    {
     "name": "stdout",
     "output_type": "stream",
     "text": [
      "Ingrese su edad: 19\n",
      "Puede votar.\n"
     ]
    }
   ],
   "source": [
    "#Ejercicio 6\n",
    "age = int(input('Ingrese su edad: '))\n",
    "if age >= 16:\n",
    "  print('Puede votar.')\n",
    "else:\n",
    "  print('No puede votar.')"
   ]
  },
  {
   "cell_type": "markdown",
   "metadata": {
    "id": "qxdnTBgbMoMm"
   },
   "source": [
    "*Ejercicios estructura condicional compuesto (IF anidados)*\n",
    "<ol>\n",
    "  <li>  Introducir los lados de un triángulo y visualizar por pantalla si dicho triángulo es equilátero, isósceles o escaleno.\n",
    "  <li> Realice un programa que le permita al usuario simular el pago ingresando el importe y la forma de pago:\n",
    "    <ul>\n",
    "      <li> Contado (1): se aplica un descuento del 10% al importe\n",
    "      <li> Tarjeta (2): se aplica un interés de 10%\n",
    "      <li> Débito (3): se aplica un descuento del 5%\n",
    "    </ul>\n",
    "    Mostrar el importe, el descuento o interés y el importe total.\n",
    "  <li> Realice un programa que lea tres números, muestre cuál es el mayor y determinar si es par o impar.\n",
    "  <li> Confeccione un programa que pida un número del 1 al 7 y diga el día de la semana correspondiente.\n",
    "  <li> Realice un programa que pida un número del 1 al 12 y diga el nombre del mes correspondiente.\n",
    "</ol>"
   ]
  },
  {
   "cell_type": "code",
   "execution_count": null,
   "metadata": {
    "colab": {
     "base_uri": "https://localhost:8080/"
    },
    "id": "1ThY1YNfNsuo",
    "outputId": "c94406f3-6275-497e-b482-839f3a63d5e5"
   },
   "outputs": [
    {
     "name": "stdout",
     "output_type": "stream",
     "text": [
      "Ingrese el lado a del triangulo: 13\n",
      "Ingrese el lado b del triangulo: 15.6\n",
      "Ingrese el lado c del triangulo: 12\n",
      "Es un triagulo escaleno.\n"
     ]
    }
   ],
   "source": [
    "#Ejercicio 1\n",
    "lados = {'a' : 0, 'b' : 0, 'c' : 0}\n",
    "for lado in lados:\n",
    "  lados[lado] = float(input('Ingrese el lado {} del triangulo: '.format(lado)))\n",
    "if lados['a'] != lados['b'] and lados['a'] != lados['c'] and lados['b'] != lados['c']:\n",
    "  print('Es un triagulo escaleno.')\n",
    "elif lados['a'] == lados['b'] and lados['a'] == lados['c']:\n",
    "  print('Es un triangulo equilatero.')\n",
    "else:\n",
    "  print('Es un triangulo isosceles.')"
   ]
  },
  {
   "cell_type": "code",
   "execution_count": null,
   "metadata": {
    "colab": {
     "base_uri": "https://localhost:8080/"
    },
    "id": "9NErjbVOPCGA",
    "outputId": "063a4b29-1400-4d6b-886e-9852dba33923"
   },
   "outputs": [
    {
     "name": "stdout",
     "output_type": "stream",
     "text": [
      "Ingrese el importe del pago: 1500\n",
      "Seleccione el tipo de pago:\n",
      "1- Contado.\n",
      "2- Tarjeta.\n",
      "3- Debito.\n",
      "1\n",
      "¡Grandioso! Tiene un descuento del 10%. Su nuevo importe a pagar es de $1350.00\n"
     ]
    }
   ],
   "source": [
    "#Ejercicio 2\n",
    "importe = float(input('Ingrese el importe del pago: '))\n",
    "eleccion = input('Seleccione el tipo de pago:\\n1- Contado.\\n2- Tarjeta.\\n3- Debito.\\n')\n",
    "if eleccion == '1':\n",
    "  print('¡Grandioso! Tiene un descuento del 10%. Su nuevo importe a pagar es de ${0:.2f}'.format(importe*0.9))\n",
    "elif eleccion == '2':\n",
    "  print('Tiene un recargo del 10%. Su nuevo importe a pagar es de ${0:.2f}'.format(importe*1.1))\n",
    "elif eleccion == '3':\n",
    "  print('¡Grandioso! Tiene un descuento del 5%. Su nuevo importe a pagar es de ${0:.2f}'.format(importe*0.95))\n",
    "else:\n",
    "  print('Opcion no definida.')"
   ]
  },
  {
   "cell_type": "code",
   "execution_count": null,
   "metadata": {
    "colab": {
     "base_uri": "https://localhost:8080/"
    },
    "id": "sWFIis9lV0tf",
    "outputId": "595e41b5-63df-4ebc-c1f1-5c25f6485890"
   },
   "outputs": [
    {
     "name": "stdout",
     "output_type": "stream",
     "text": [
      "Ingrese numero #1: 14\n",
      "Ingrese numero #2: 19\n",
      "Ingrese numero #3: 57\n",
      "El numero 57.0 es el mayor y es impar.\n"
     ]
    }
   ],
   "source": [
    "#Ejercicio 3\n",
    "numbers = []\n",
    "tipo = ''\n",
    "for i in range(3):\n",
    "  num = float(input('Ingrese numero #' + str(i+1) + ': '))\n",
    "  numbers.append(num)\n",
    "numbers.sort(reverse=True)\n",
    "if numbers[0] % 2 == 0:\n",
    "  tipo = 'par'\n",
    "else:\n",
    "  tipo = 'impar'\n",
    "print('El numero {0} es el mayor y es {1}.'.format(numbers[0], tipo))"
   ]
  },
  {
   "cell_type": "code",
   "execution_count": null,
   "metadata": {
    "colab": {
     "base_uri": "https://localhost:8080/"
    },
    "id": "tZxcZsbjXf6n",
    "outputId": "73b0ef3c-6010-4681-bc51-bde7242fd071"
   },
   "outputs": [
    {
     "name": "stdout",
     "output_type": "stream",
     "text": [
      "Seleccione un numero del 1 al 7: 5\n",
      "El dia que solicito es viernes\n"
     ]
    }
   ],
   "source": [
    "#Ejercicio 4\n",
    "dias = {1: 'lunes', 2: 'martes', 3:'miercoles', 4:'jueves', 5:'viernes', 6:'sabado', 7:'domingo'}\n",
    "dia_pedido = int(input('Seleccione un numero del 1 al 7: '))\n",
    "print('El dia que solicito es {}'.format(dias[dia_pedido]))"
   ]
  },
  {
   "cell_type": "code",
   "execution_count": null,
   "metadata": {
    "colab": {
     "base_uri": "https://localhost:8080/"
    },
    "id": "3FSoBbt2Z1QG",
    "outputId": "1288f0b9-9023-475a-b365-8f64b04fc1ca"
   },
   "outputs": [
    {
     "name": "stdout",
     "output_type": "stream",
     "text": [
      "Seleccione un numero del 1 al 12: 10\n",
      "El mes que solicito es Octubre\n"
     ]
    }
   ],
   "source": [
    "#Ejercicio 5\n",
    "meses = {1:'Enero', 2:'Febrero', 3:'Marzo', 4:'Abril', 5:'Mayo', 6:'Junio', 7:'Julio', 8:'Agosto', 9:'Septiembre', 10:'Octubre', 11:'Noviembre', 12:'Diciembre'}\n",
    "mes_pedido = int(input('Seleccione un numero del 1 al 12: '))\n",
    "print('El mes que solicito es {}'.format(meses[mes_pedido]))"
   ]
  },
  {
   "cell_type": "markdown",
   "metadata": {
    "id": "MN9sCcQccCb6"
   },
   "source": [
    "*Ejercicios estructuras repetitivas y estructuras condicional.*\n",
    "<ol>\n",
    "  <li>  Realice un programa que lea 4 números y diga cuantos son pares y cuantos impares y devuelva la \n",
    "sumatoria de los pares.\n",
    "  <li> Leer 10 números y obtener la cantidad de mayores y la cantidad de menores a 100, cuál es el número \n",
    "máximo y cuál es el número mínimo.\n",
    "  <li> Ingresar las edades y el sexo de 15 personas y determinar cuántas son mujeres, cuántos varones, \n",
    "cuántos mayores de edad y cuántos menores de edad.\n",
    "  <li> Leer 10 números y mostrar solamente los números positivos, y su sumatoria.\n",
    "  <li> Leer 15 números negativos y convertirlos a positivos e imprimir dichos números.\n",
    "</ol>"
   ]
  },
  {
   "cell_type": "code",
   "execution_count": null,
   "metadata": {
    "colab": {
     "base_uri": "https://localhost:8080/"
    },
    "id": "WiMZPN51b05o",
    "outputId": "971920f6-bace-45b1-fce9-cbc7d89a3f33"
   },
   "outputs": [
    {
     "name": "stdout",
     "output_type": "stream",
     "text": [
      "Ingrese numero #1: 19\n",
      "Ingrese numero #2: 23\n",
      "Ingrese numero #3: 54\n",
      "Ingrese numero #4: 66\n",
      "Hay 2 impares y 2 pares donde la sumatoria de estos ultimos es de 120\n"
     ]
    }
   ],
   "source": [
    "#Ejercicio 1\n",
    "numbers = []\n",
    "sumatoria = 0\n",
    "pares = 0\n",
    "impares = 0\n",
    "for i in range(4):\n",
    "  num = int(input('Ingrese numero #' + str(i+1) + ': '))\n",
    "  numbers.append(num)\n",
    "  if numbers[i] % 2 == 0:\n",
    "    pares += 1\n",
    "    sumatoria += numbers[i]\n",
    "  else:\n",
    "    impares += 1\n",
    "print('Hay {0} impares y {1} pares donde la sumatoria de estos ultimos es de {2}'.format(impares, pares, sumatoria))"
   ]
  },
  {
   "cell_type": "code",
   "execution_count": null,
   "metadata": {
    "colab": {
     "base_uri": "https://localhost:8080/"
    },
    "id": "A5cK0GVvd9KS",
    "outputId": "7c238fcb-d949-4cdb-d20e-a209044dace2"
   },
   "outputs": [
    {
     "name": "stdout",
     "output_type": "stream",
     "text": [
      "Ingrese numero #1: 324\n",
      "Ingrese numero #2: 253\n",
      "Ingrese numero #3: 123\n",
      "Ingrese numero #4: 23\n",
      "Ingrese numero #5: 543\n",
      "Ingrese numero #6: 56\n",
      "Ingrese numero #7: 32\n",
      "Ingrese numero #8: 78\n",
      "Ingrese numero #9: 89\n",
      "Ingrese numero #10: 3\n",
      "Hay 4 numeros mayores a 100, 6 numeros menores o iguales a 100.\n",
      "De estos el mayor es 543 y el menor es 3\n"
     ]
    }
   ],
   "source": [
    "#Ejercicio 2\n",
    "numbers = []\n",
    "mayores = 0\n",
    "for i in range(10):\n",
    "  num = int(input('Ingrese numero #' + str(i+1) + ': '))\n",
    "  numbers.append(num)\n",
    "  if numbers[i] > 100:\n",
    "    mayores += 1\n",
    "numbers.sort(reverse=True)\n",
    "print('Hay {0} numeros mayores a 100, {1} numeros menores o iguales a 100.\\nDe estos el mayor es {2} y el menor es {3}'.format(mayores, len(numbers)-mayores, numbers[0], numbers[-1]))"
   ]
  },
  {
   "cell_type": "code",
   "execution_count": null,
   "metadata": {
    "colab": {
     "base_uri": "https://localhost:8080/"
    },
    "id": "39YBEgVdfszl",
    "outputId": "ac45c46d-17c3-4283-dbb9-81861ae557a2"
   },
   "outputs": [
    {
     "name": "stdout",
     "output_type": "stream",
     "text": [
      "Ingrese la edad y el sexo de la persona #1 separadas por un espacio (Ej: \"17 M\"): 13 F\n",
      "Ingrese la edad y el sexo de la persona #2 separadas por un espacio (Ej: \"17 M\"): 24 F\n",
      "Ingrese la edad y el sexo de la persona #3 separadas por un espacio (Ej: \"17 M\"): 5 F\n",
      "Ingrese la edad y el sexo de la persona #4 separadas por un espacio (Ej: \"17 M\"): 3 F\n",
      "Ingrese la edad y el sexo de la persona #5 separadas por un espacio (Ej: \"17 M\"): 7 M\n",
      "Ingrese la edad y el sexo de la persona #6 separadas por un espacio (Ej: \"17 M\"): 17 M\n",
      "Ingrese la edad y el sexo de la persona #7 separadas por un espacio (Ej: \"17 M\"): 54 M\n",
      "Ingrese la edad y el sexo de la persona #8 separadas por un espacio (Ej: \"17 M\"): 37 F\n",
      "Ingrese la edad y el sexo de la persona #9 separadas por un espacio (Ej: \"17 M\"): 79 F\n",
      "Ingrese la edad y el sexo de la persona #10 separadas por un espacio (Ej: \"17 M\"): 54 F\n",
      "Ingrese la edad y el sexo de la persona #11 separadas por un espacio (Ej: \"17 M\"): 24 M\n",
      "Ingrese la edad y el sexo de la persona #12 separadas por un espacio (Ej: \"17 M\"): 25 M\n",
      "Ingrese la edad y el sexo de la persona #13 separadas por un espacio (Ej: \"17 M\"): 24 F\n",
      "Ingrese la edad y el sexo de la persona #14 separadas por un espacio (Ej: \"17 M\"): 13 F\n",
      "Ingrese la edad y el sexo de la persona #15 separadas por un espacio (Ej: \"17 M\"): 31 F\n",
      "Mujeres: 10\n",
      "Hombres: 5\n",
      "Mayores de edad: 9\n",
      "Menores de edad: 6\n"
     ]
    }
   ],
   "source": [
    "#Ejercicio 3\n",
    "edades = []\n",
    "sexos = []\n",
    "mayores = 0\n",
    "for i in range(15):\n",
    "  dato = input('Ingrese la edad y el sexo de la persona #{0} separadas por un espacio (Ej: \"17 M\"): '.format(i+1)).lower().split()\n",
    "  edades.append(int(dato[0]))\n",
    "  sexos.append(dato[1])\n",
    "  if edades[i] >= 18:\n",
    "    mayores += 1\n",
    "print('Mujeres: {0}\\nHombres: {1}\\nMayores de edad: {2}\\nMenores de edad: {3}'.format(str(sexos).count('f'), str(sexos).count('m'), mayores, len(edades)-mayores))"
   ]
  },
  {
   "cell_type": "code",
   "execution_count": 2,
   "metadata": {
    "colab": {
     "base_uri": "https://localhost:8080/"
    },
    "id": "qmwEnFgJj-bJ",
    "outputId": "f3080914-2c4c-48c1-99e9-08e416978aa2"
   },
   "outputs": [
    {
     "name": "stdout",
     "output_type": "stream",
     "text": [
      "Ingrese numero #1: 5\n",
      "Ingrese numero #2: -19\n",
      "Ingrese numero #3: 23\n",
      "Ingrese numero #4: -4\n",
      "Ingrese numero #5: -12\n",
      "Ingrese numero #6: 52\n",
      "Ingrese numero #7: 36\n",
      "Ingrese numero #8: 63\n",
      "Ingrese numero #9: -34\n",
      "Ingrese numero #10: -62\n",
      "Numeros positivos: 5, 23, 52, 36, 63\n",
      "Sumatoria: 179\n"
     ]
    }
   ],
   "source": [
    "#Ejercicio 4\n",
    "numbers = []\n",
    "sumatoria = 0\n",
    "for i in range(10):\n",
    "  num = int(input('Ingrese numero #' + str(i+1) + ': '))\n",
    "  if num > 0:\n",
    "    numbers.append(num)\n",
    "    sumatoria += num\n",
    "print('Numeros positivos: {0}\\nSumatoria: {1}'.format(\", \".join([str(i) for i in numbers]), sumatoria))"
   ]
  },
  {
   "cell_type": "code",
   "execution_count": null,
   "metadata": {
    "colab": {
     "base_uri": "https://localhost:8080/"
    },
    "id": "K_0QfLbBndRS",
    "outputId": "72ffbe35-e9a8-44ce-a030-63f75d3e257b"
   },
   "outputs": [
    {
     "name": "stdout",
     "output_type": "stream",
     "text": [
      "Ingrese numero #1: -23\n",
      "Ingrese numero #2: -23\n",
      "Ingrese numero #3: -4\n",
      "Ingrese numero #4: -4\n",
      "Ingrese numero #5: -6\n",
      "Ingrese numero #6: -8\n",
      "Ingrese numero #7: -3\n",
      "Ingrese numero #8: -23\n",
      "Ingrese numero #9: -53\n",
      "Ingrese numero #10: -32\n",
      "Ingrese numero #11: -674\n",
      "Ingrese numero #12: -64\n",
      "Ingrese numero #13: -32\n",
      "Ingrese numero #14: -75\n",
      "Ingrese numero #15: -24\n",
      "Numeros positivos: 23, 23, 4, 4, 6, 8, 3, 23, 53, 32, 674, 64, 32, 75, 24\n"
     ]
    }
   ],
   "source": [
    "#Ejercicio 5\n",
    "numbers = []\n",
    "for i in range(15):\n",
    "  num = int(input('Ingrese numero #' + str(i+1) + ': '))\n",
    "  numbers.append(abs(num))\n",
    "print('Numeros positivos: {0}'.format(\", \".join([str(i) for i in numbers])))"
   ]
  }
 ],
 "metadata": {
  "colab": {
   "collapsed_sections": [],
   "name": "TP - Programación 1.ipynb",
   "provenance": []
  },
  "kernelspec": {
   "display_name": "Python 3",
   "language": "python",
   "name": "python3"
  },
  "language_info": {
   "codemirror_mode": {
    "name": "ipython",
    "version": 3
   },
   "file_extension": ".py",
   "mimetype": "text/x-python",
   "name": "python",
   "nbconvert_exporter": "python",
   "pygments_lexer": "ipython3",
   "version": "3.7.3"
  }
 },
 "nbformat": 4,
 "nbformat_minor": 1
}
